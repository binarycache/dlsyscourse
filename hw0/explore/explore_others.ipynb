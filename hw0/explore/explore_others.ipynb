{
 "cells": [
  {
   "cell_type": "markdown",
   "id": "edbb3e6f-6705-4c01-b348-9f38d9f36da1",
   "metadata": {},
   "source": [
    "# Exploring PyBind11"
   ]
  },
  {
   "cell_type": "markdown",
   "id": "d2da1c34-90e4-450b-b0dd-55b11813a848",
   "metadata": {},
   "source": [
    "#### Notes:\n",
    "\n",
    "- Call C++ from python\n",
    "- Lightwieght, header only library"
   ]
  },
  {
   "cell_type": "code",
   "execution_count": null,
   "id": "9621184e-3a61-4107-bb87-1c4cbb8e257f",
   "metadata": {},
   "outputs": [],
   "source": []
  }
 ],
 "metadata": {
  "kernelspec": {
   "display_name": "Python 3 (ipykernel)",
   "language": "python",
   "name": "python3"
  },
  "language_info": {
   "codemirror_mode": {
    "name": "ipython",
    "version": 3
   },
   "file_extension": ".py",
   "mimetype": "text/x-python",
   "name": "python",
   "nbconvert_exporter": "python",
   "pygments_lexer": "ipython3",
   "version": "3.9.7"
  }
 },
 "nbformat": 4,
 "nbformat_minor": 5
}
