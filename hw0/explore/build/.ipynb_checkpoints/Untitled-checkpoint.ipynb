{
 "cells": [
  {
   "cell_type": "code",
   "execution_count": 1,
   "id": "55a40f09-53e5-4f4d-abaf-efd7fe7b820f",
   "metadata": {},
   "outputs": [
    {
     "name": "stdout",
     "output_type": "stream",
     "text": [
      "total 1.2M\n",
      "drwxrwxrwx 1 root root 4.0K Sep 15 04:13 .\n",
      "drwxrwxrwx 1 root root 4.0K Sep 15 04:11 ..\n",
      "-rwxrwxrwx 1 root root 543K Sep 15 03:59 .fuse_hidden000013cb00000001\n",
      "drwxrwxrwx 1 root root    0 Sep 15 04:01 .ipynb_checkpoints\n",
      "-rwxrwxrwx 1 root root  19K Sep 15 03:57 CMakeCache.txt\n",
      "drwxrwxrwx 1 root root 4.0K Sep 15 04:13 CMakeFiles\n",
      "-rwxrwxrwx 1 root root 5.3K Sep 15 04:12 Makefile\n",
      "-rwxrwxrwx 1 root root 2.6K Sep 15 04:13 Untitled.ipynb\n",
      "-rwxrwxrwx 1 root root 1.9K Sep 15 03:57 cmake_install.cmake\n",
      "-rwxrwxrwx 1 root root 543K Sep 15 04:13 module_name.cpython-39-x86_64-linux-gnu.so\n",
      "drwxrwxrwx 1 root root    0 Sep 15 04:12 pybind11\n"
     ]
    }
   ],
   "source": [
    "!ls -lah"
   ]
  },
  {
   "cell_type": "code",
   "execution_count": 2,
   "id": "c45384e0-deed-4dce-88a7-df72753fe76f",
   "metadata": {},
   "outputs": [],
   "source": [
    "import module_name"
   ]
  },
  {
   "cell_type": "code",
   "execution_count": 3,
   "id": "ba0874fc-02ff-452e-a978-7e54988ea5a3",
   "metadata": {},
   "outputs": [
    {
     "data": {
      "text/plain": [
       "['__doc__',\n",
       " '__file__',\n",
       " '__loader__',\n",
       " '__name__',\n",
       " '__package__',\n",
       " '__spec__',\n",
       " 'some_python_fn_name']"
      ]
     },
     "execution_count": 3,
     "metadata": {},
     "output_type": "execute_result"
    }
   ],
   "source": [
    "dir(module_name)"
   ]
  },
  {
   "cell_type": "code",
   "execution_count": 4,
   "id": "fc312539-d509-4add-976a-b16d6bc77b10",
   "metadata": {},
   "outputs": [
    {
     "data": {
      "text/plain": [
       "'Trying pybind11 with very simple functions'"
      ]
     },
     "execution_count": 4,
     "metadata": {},
     "output_type": "execute_result"
    }
   ],
   "source": [
    "module_name.__doc__"
   ]
  },
  {
   "cell_type": "code",
   "execution_count": 5,
   "id": "fa7c3654-efb2-4468-8edb-688e4d7601bf",
   "metadata": {},
   "outputs": [
    {
     "data": {
      "text/plain": [
       "3.0"
      ]
     },
     "execution_count": 5,
     "metadata": {},
     "output_type": "execute_result"
    }
   ],
   "source": [
    "module_name.some_python_fn_name(1,2)"
   ]
  },
  {
   "cell_type": "code",
   "execution_count": 6,
   "id": "632a8465-c93c-49a1-a271-8a1ce5a2b8a7",
   "metadata": {},
   "outputs": [
    {
     "data": {
      "text/plain": [
       "\u001b[0;31mDocstring:\u001b[0m some_python_fn_name(arg0: float, arg1: float) -> float\n",
       "\u001b[0;31mType:\u001b[0m      builtin_function_or_method\n"
      ]
     },
     "metadata": {},
     "output_type": "display_data"
    }
   ],
   "source": [
    "module_name.some_python_fn_name?"
   ]
  },
  {
   "cell_type": "code",
   "execution_count": null,
   "id": "2c8099d4-5a6b-46f4-9f36-7bb82f3f19d8",
   "metadata": {},
   "outputs": [],
   "source": []
  }
 ],
 "metadata": {
  "kernelspec": {
   "display_name": "Python 3 (ipykernel)",
   "language": "python",
   "name": "python3"
  },
  "language_info": {
   "codemirror_mode": {
    "name": "ipython",
    "version": 3
   },
   "file_extension": ".py",
   "mimetype": "text/x-python",
   "name": "python",
   "nbconvert_exporter": "python",
   "pygments_lexer": "ipython3",
   "version": "3.9.7"
  }
 },
 "nbformat": 4,
 "nbformat_minor": 5
}
