{
 "cells": [
  {
   "cell_type": "code",
   "execution_count": 1,
   "id": "d9cb3d66-42f9-45e1-abf4-21661357e402",
   "metadata": {},
   "outputs": [],
   "source": [
    "import gzip\n",
    "import struct\n",
    "import matplotlib.pyplot as plt\n",
    "import numpy as np"
   ]
  },
  {
   "cell_type": "code",
   "execution_count": 3,
   "id": "0a4ffa62-ee98-4a11-8e2a-4491c477d248",
   "metadata": {},
   "outputs": [],
   "source": [
    "def visualize_image(img):\n",
    "    \"\"\"\n",
    "    img: list with len = 784\n",
    "    An example image of MNIST dataset either train or test\n",
    "    \"\"\"\n",
    "    # Convert to numpy array\n",
    "    img = np.array(img)\n",
    "    # Reshape to 28x28 image to plot using matplotlib\n",
    "    img = img.reshape(28,28)\n",
    "    plt.imshow(img)"
   ]
  },
  {
   "cell_type": "code",
   "execution_count": 4,
   "id": "f981a634-57b0-475d-ba22-3bdce4ff2c99",
   "metadata": {},
   "outputs": [
    {
     "data": {
      "image/png": "[encoded data removed]",
      "text/plain": [
       "<Figure size 432x288 with 1 Axes>"
      ]
     },
     "metadata": {
      "needs_background": "light"
     },
     "output_type": "display_data"
    }
   ],
   "source": [
    "# trying reading binary (rb) mode\n",
    "# ubyte is unsigned byte\n",
    "# idx3 means dimensions like n1xn2xn3; for MNIST train its 60,000 x 28 x 28\n",
    "# MNIST test is 10,000 x 28 x 28, we will convert this into 10,000 x 784\n",
    "\n",
    "path = 'data/t10k-images-idx3-ubyte.gz'\n",
    "with gzip.open(path,'rb') as f:\n",
    "    data = f.read() # returns a bytes object\n",
    "\n",
    "#### Format of the test images file\n",
    "# Train SET IMAGE FILE (train-images-idx3-ubyte):\n",
    "# |[offset] | [type]     |     [value]     |     [description]\n",
    "# 0000     32 bit integer  0x00000803(2051) magic number\n",
    "# 0004     32 bit integer  10000            number of images\n",
    "# 0008     32 bit integer  28               number of rows\n",
    "# 0012     32 bit integer  28               number of columns\n",
    "# 0016     unsigned byte   ??               pixel\n",
    "# 0017     unsigned byte   ??               pixel\n",
    "# ........\n",
    "# xxxx     unsigned byte   ??               pixel\n",
    "\n",
    "# For reading first 16 bytes, containing 4 bytes for magic number, 4 for #images, 4 for #rows and 4 for #cols \n",
    "meta_data = struct.iter_unpack('>I',data[0:16])\n",
    "\n",
    "magic_number = next(meta_data)\n",
    "n_images= next(meta_data)\n",
    "n_rows = next(meta_data)\n",
    "n_cols = next(meta_data)\n",
    "\n",
    "magic_number, n_images, n_rows, n_cols\n",
    "\n",
    "pixels = list(struct.iter_unpack('>B',data[16:]))\n",
    "\n",
    "len(list(pixels)) # 10000 x 784\n",
    "\n",
    "images = []\n",
    "n_pixels = n_rows[0] * n_cols[0]\n",
    "for i in range(n_images[0]):\n",
    "    images.append(pixels[i * n_pixels: i * n_pixels + n_pixels])\n",
    "\n",
    "assert len(images)==10000, \"Make sure there are 10,000 images in the test set\"\n",
    "\n",
    "visualize_image(images[0])"
   ]
  },
  {
   "cell_type": "code",
   "execution_count": 27,
   "id": "79bc50fc-91a5-4f9a-817d-584462634725",
   "metadata": {},
   "outputs": [],
   "source": [
    "# trying reading binary (rb) mode\n",
    "# ubyte is unsigned byte\n",
    "# idx3 means dimensions like n1xn2xn3; for MNIST train its 60,000 x 28 x 28\n",
    "# MNIST test is 10,000 x 28 x 28, we will convert this into 10,000 x 784\n",
    "\n",
    "path = 'data/train-images-idx3-ubyte.gz'\n",
    "with gzip.open(path,'rb') as f:\n",
    "    data = f.read() # returns a bytes object"
   ]
  },
  {
   "cell_type": "code",
   "execution_count": 30,
   "id": "abb0579c-53a2-4118-b8a2-d60ca3921d97",
   "metadata": {},
   "outputs": [],
   "source": [
    "meta_data = struct.iter_unpack('>I',data[0:16])\n",
    "magic_number, n_images, n_rows, n_cols = meta_data"
   ]
  },
  {
   "cell_type": "code",
   "execution_count": 31,
   "id": "beabb3a1-baf9-4c3d-88a3-bd18080ace59",
   "metadata": {},
   "outputs": [
    {
     "data": {
      "text/plain": [
       "((2051,), (60000,), (28,), (28,))"
      ]
     },
     "execution_count": 31,
     "metadata": {},
     "output_type": "execute_result"
    }
   ],
   "source": [
    "magic_number,n_images,n_rows,n_cols"
   ]
  },
  {
   "cell_type": "code",
   "execution_count": 5,
   "id": "bb6648dd-f9cf-4184-95e3-c182b2029626",
   "metadata": {},
   "outputs": [
    {
     "data": {
      "image/png": "[encoded data removed]",
      "text/plain": [
       "<Figure size 432x288 with 1 Axes>"
      ]
     },
     "metadata": {
      "needs_background": "light"
     },
     "output_type": "display_data"
    }
   ],
   "source": [
    "#### Format of the test images file\n",
    "# Train SET IMAGE FILE (train-images-idx3-ubyte):\n",
    "# |[offset] | [type]     |     [value]     |     [description]\n",
    "# 0000     32 bit integer  0x00000803(2051) magic number\n",
    "# 0004     32 bit integer  10000            number of images\n",
    "# 0008     32 bit integer  28               number of rows\n",
    "# 0012     32 bit integer  28               number of columns\n",
    "# 0016     unsigned byte   ??               pixel\n",
    "# 0017     unsigned byte   ??               pixel\n",
    "# ........\n",
    "# xxxx     unsigned byte   ??               pixel\n",
    "\n",
    "# For reading first 16 bytes, containing 4 bytes for magic number, 4 for #images, 4 for #rows and 4 for #cols \n",
    "meta_data = struct.iter_unpack('>I',data[0:16])\n",
    "\n",
    "magic_number = next(meta_data)\n",
    "n_images= next(meta_data)\n",
    "n_rows = next(meta_data)\n",
    "n_cols = next(meta_data)\n",
    "\n",
    "magic_number, n_images, n_rows, n_cols\n",
    "\n",
    "pixels = list(struct.iter_unpack('>B',data[16:]))\n",
    "\n",
    "len(list(pixels)) # 10000 x 784\n",
    "\n",
    "images = []\n",
    "n_pixels = n_rows[0] * n_cols[0]\n",
    "for i in range(n_images[0]):\n",
    "    images.append(pixels[i * n_pixels: i * n_pixels + n_pixels])\n",
    "\n",
    "assert len(images)==60000, \"Make sure there are 10,000 images in the test set\"\n",
    "\n",
    "visualize_image(images[0])"
   ]
  },
  {
   "cell_type": "code",
   "execution_count": 22,
   "id": "ed4e825d-414e-4c5b-8525-342b61355c20",
   "metadata": {},
   "outputs": [],
   "source": [
    "# trying reading binary (rb) mode\n",
    "# ubyte is unsigned byte\n",
    "# idx3 means dimensions like n1xn2xn3; for MNIST train its 60,000 x 28 x 28\n",
    "# MNIST test is 10,000 x 28 x 28, we will convert this into 10,000 x 784\n",
    "\n",
    "path = 'data/train-labels-idx1-ubyte.gz'\n",
    "with gzip.open(path,'rb') as f:\n",
    "    data = f.read() # returns a bytes object\n",
    "\n",
    "#### Format of the test images file\n",
    "# Train SET label FILE (train-labels-idx1-ubyte):\n",
    "# [offset] [type]          [value]          [description]\n",
    "# 0000     32 bit integer  0x00000801(2049) magic number (MSB first)\n",
    "# 0004     32 bit integer  10000            number of items\n",
    "# 0008     unsigned byte   ??               label\n",
    "# 0009     unsigned byte   ??               label\n",
    "# ........\n",
    "# xxxx     unsigned byte   ??               label\n",
    "# The labels values are 0 to 9.\n",
    "\n",
    "# For reading first 16 bytes, containing 4 bytes for magic number, 4 for #images, 4 for #rows and 4 for #cols \n",
    "meta_data = struct.iter_unpack('>I',data[0:8])\n",
    "\n",
    "magic_number = next(meta_data)\n",
    "n_labels = next(meta_data)\n",
    "\n",
    "\n",
    "train_labels = [label[0] for label in struct.iter_unpack('>B',data[8:])]\n",
    "\n",
    "assert len(train_labels)==n_labels[0], f\"Make sure there are {n_labels} labels in the test set, you currently have {len(train_labels)}\""
   ]
  },
  {
   "cell_type": "code",
   "execution_count": 26,
   "id": "b9ca8ae0-f298-4a3f-926d-6b33056cb4ce",
   "metadata": {},
   "outputs": [],
   "source": [
    "# trying reading binary (rb) mode\n",
    "# ubyte is unsigned byte\n",
    "# idx1 means dimensions like n1; for MNIST train its 60,000 for train\n",
    "# MNIST test is 10,000 x 1\n",
    "\n",
    "path = 'data/t10k-labels-idx1-ubyte.gz'\n",
    "with gzip.open(path,'rb') as f:\n",
    "    data = f.read() # returns a bytes object\n",
    "\n",
    "#### Format of the test images file\n",
    "# Test SET label FILE (test-labels-idx1-ubyte):\n",
    "# [offset] [type]          [value]          [description]\n",
    "# 0000     32 bit integer  0x00000801(2049) magic number (MSB first)\n",
    "# 0004     32 bit integer  10000            number of items\n",
    "# 0008     unsigned byte   ??               label\n",
    "# 0009     unsigned byte   ??               label\n",
    "# ........\n",
    "# xxxx     unsigned byte   ??               label\n",
    "# The labels values are 0 to 9.\n",
    "\n",
    "# For reading first 16 bytes, containing 4 bytes for magic number, 4 for #images, 4 for #rows and 4 for #cols \n",
    "meta_data = struct.iter_unpack('>I',data[0:8])\n",
    "\n",
    "magic_number = next(meta_data)\n",
    "n_labels = next(meta_data)\n",
    "\n",
    "\n",
    "test_labels = [label[0] for label in struct.iter_unpack('>B',data[8:])]\n",
    "\n",
    "assert len(test_labels)==n_labels[0], f\"Make sure there are {n_labels} labels in the test set, you currently have {len(train_labels)}\""
   ]
  },
  {
   "cell_type": "code",
   "execution_count": 2,
   "id": "5daabe02-63de-455e-813d-85a941fe9976",
   "metadata": {},
   "outputs": [],
   "source": [
    "def parse_images(image_filename:str)->list:\n",
    "    print(f\"Working on {image_filename}\")\n",
    "    with gzip.open(image_filename,'rb') as f:\n",
    "        data = f.read() # returns a bytes object\n",
    "\n",
    "    #### Format of the test images file\n",
    "    # Train/Test SET IMAGE FILE (train[t10k]-images-idx3-ubyte):\n",
    "    # |[offset] | [type]     |     [value]     |     [description]\n",
    "    # 0000     32 bit integer  0x00000803(2051) magic number\n",
    "    # 0004     32 bit integer  60000(10000)     number of train(test)images\n",
    "    # 0008     32 bit integer  28               number of rows\n",
    "    # 0012     32 bit integer  28               number of columns\n",
    "    # 0016     unsigned byte   ??               pixel\n",
    "    # 0017     unsigned byte   ??               pixel\n",
    "    # ........\n",
    "    # xxxx     unsigned byte   ??               pixel\n",
    "\n",
    "    # For reading first 16 bytes, containing 4 bytes for magic number, 4 for #images, 4 for #rows and 4 for #cols \n",
    "    meta_data = struct.iter_unpack('>I',data[0:16])\n",
    "\n",
    "    magic_number, n_images, n_rows, n_cols  = meta_data\n",
    "\n",
    "    pixels = [pix[0] for pix in struct.iter_unpack('>B',data[16:])]\n",
    "\n",
    "    images = []\n",
    "    n_pixels = n_rows[0] * n_cols[0]\n",
    "    n_images = n_images[0]\n",
    "    assert len(list(pixels))==n_images*n_pixels # 60000(10000) x 784\n",
    "    \n",
    "    for i in range(n_images):\n",
    "        images.append(pixels[i * n_pixels: i * n_pixels + n_pixels])\n",
    "\n",
    "    return images"
   ]
  },
  {
   "cell_type": "code",
   "execution_count": 3,
   "id": "6fda5dc2-97a1-4c59-afff-72b2ad758b0e",
   "metadata": {},
   "outputs": [],
   "source": [
    "def parse_labels(label_filename:str)->list:\n",
    "    print(f\"Working on {label_filename}\")\n",
    "    with gzip.open(label_filename,'rb') as f:\n",
    "        data = f.read() # returns a bytes object\n",
    "\n",
    "    #### Format of the test images file\n",
    "    # Train/test SET label FILE (train(t10k)-labels-idx1-ubyte):\n",
    "    # [offset] [type]          [value]          [description]\n",
    "    # 0000     32 bit integer  0x00000801(2049) magic number (MSB first)\n",
    "    # 0004     32 bit integer  60000(10000)     number of items\n",
    "    # 0008     unsigned byte   ??               label\n",
    "    # 0009     unsigned byte   ??               label\n",
    "    # ........\n",
    "    # xxxx     unsigned byte   ??               label\n",
    "    # The labels values are 0 to 9.\n",
    "\n",
    "    # For reading first 8 bytes, containing 4 bytes for magic number, 4 for #labels\n",
    "    meta_data = struct.iter_unpack('>I',data[0:8])\n",
    "\n",
    "    magic_number = next(meta_data)\n",
    "    n_labels = next(meta_data)\n",
    "\n",
    "    labels = [label[0] for label in struct.iter_unpack('>B',data[8:])]\n",
    "\n",
    "    assert len(labels)==n_labels[0], f\"Make sure there are {n_labels} labels in the test set,\\\n",
    "                                       you currently have {len(labels)}\"\n",
    "\n",
    "    return labels"
   ]
  },
  {
   "cell_type": "code",
   "execution_count": 4,
   "id": "af44cb48-3151-4d50-97d3-c175ae0ce21f",
   "metadata": {},
   "outputs": [],
   "source": [
    "def parse_mnist(image_filename, label_filename):\n",
    "    \"\"\" Read an images and labels file in MNIST format.  See this page:\n",
    "    http://yann.lecun.com/exdb/mnist/ for a description of the file format.\n",
    "\n",
    "    Args:\n",
    "        image_filename (str): name of gzipped images file in MNIST format\n",
    "        label_filename (str): name of gzipped labels file in MNIST format\n",
    "\n",
    "    Returns:\n",
    "        Tuple (X,y):\n",
    "            X (numpy.ndarray[np.float32]): 2D numpy array containing the loaded\n",
    "                data.  The dimensionality of the data should be\n",
    "                (num_examples x input_dim) where 'input_dim' is the full\n",
    "                dimension of the data, e.g., since MNIST images are 28x28, it\n",
    "                will be 784.  Values should be of type np.float32, and the data\n",
    "                should be normalized to have a minimum value of 0.0 and a\n",
    "                maximum value of 1.0.\n",
    "\n",
    "            y (numpy.ndarray[dypte=np.uint8]): 1D numpy array containing the\n",
    "                labels of the examples.  Values should be of type np.uint8 and\n",
    "                for MNIST will contain the values 0-9.\n",
    "    \"\"\"\n",
    "    ### BEGIN YOUR CODE\n",
    "    if  \"train\" in image_filename:\n",
    "        assert \"train-labels\" in label_filename, \"Please pass labels for train images only.\"\n",
    "        images = parse_images(image_filename)\n",
    "        labels = parse_labels(label_filename)\n",
    "        train_images = np.array(images, dtype=np.float32)\n",
    "        # normalize the images between 0 and 1\n",
    "        #train_images = train_images/np.linalg.norm(train_images)\n",
    "        train_labels = np.array(labels, dtype=np.uint8)\n",
    "        return (train_images, train_labels)\n",
    "    \n",
    "    if  \"test\" in image_filename:\n",
    "        assert \"t10k-labels\" in label_filename, \"Please pass labels for test images only.\"\n",
    "        images = parse_images(image_filename)\n",
    "        labels = parse_labels(label_filename)\n",
    "        #test_images = np.array(images, dtype=np.float32)\n",
    "        # normalize the images between 0 and 1\n",
    "        test_images = test_images/np.linalg.norm(test_images)\n",
    "        test_labels = np.array(labels, dtype=np.uint8)\n",
    "        return (test_images, test_labels)"
   ]
  },
  {
   "cell_type": "code",
   "execution_count": 5,
   "id": "46d787a9",
   "metadata": {},
   "outputs": [
    {
     "name": "stdout",
     "output_type": "stream",
     "text": [
      "Working on data/train-images-idx3-ubyte.gz\n",
      "Working on data/train-labels-idx1-ubyte.gz\n"
     ]
    }
   ],
   "source": [
    "X, y = parse_mnist(\"data/train-images-idx3-ubyte.gz\",\n",
    "            \"data/train-labels-idx1-ubyte.gz\")"
   ]
  },
  {
   "cell_type": "code",
   "execution_count": 6,
   "id": "f55a993f-e987-4e1b-b6ba-b43275bb16b2",
   "metadata": {},
   "outputs": [
    {
     "data": {
      "text/plain": [
       "((60000, 784), (60000,))"
      ]
     },
     "execution_count": 6,
     "metadata": {},
     "output_type": "execute_result"
    }
   ],
   "source": [
    "X.shape, y.shape"
   ]
  },
  {
   "cell_type": "code",
   "execution_count": 7,
   "id": "d1532ea8-ba1a-4666-b747-08587ae5e473",
   "metadata": {},
   "outputs": [
    {
     "data": {
      "text/plain": [
       "7112.482"
      ]
     },
     "execution_count": 7,
     "metadata": {},
     "output_type": "execute_result"
    }
   ],
   "source": [
    "np.linalg.norm(X[:10])"
   ]
  },
  {
   "cell_type": "code",
   "execution_count": 8,
   "id": "b2a3be4b-de15-4ec6-82b8-cf384436fc65",
   "metadata": {},
   "outputs": [
    {
     "data": {
      "text/plain": [
       "12.409673645990857"
      ]
     },
     "execution_count": 8,
     "metadata": {},
     "output_type": "execute_result"
    }
   ],
   "source": [
    "np.linalg.norm(y[:10])"
   ]
  },
  {
   "cell_type": "code",
   "execution_count": 9,
   "id": "ff564ea5-104f-47bb-bf17-011c73e418bd",
   "metadata": {},
   "outputs": [
    {
     "data": {
      "text/plain": [
       "array([5, 0, 4, 1, 9, 2, 1, 3, 1, 4], dtype=uint8)"
      ]
     },
     "execution_count": 9,
     "metadata": {},
     "output_type": "execute_result"
    }
   ],
   "source": [
    "y[:10] #[5, 0, 4, 1, 9, 2, 1, 3, 1, 4])"
   ]
  },
  {
   "cell_type": "code",
   "execution_count": null,
   "id": "acc8a75d-7c3b-4e24-b486-35d2b91b6d91",
   "metadata": {},
   "outputs": [],
   "source": []
  }
 ],
 "metadata": {
  "kernelspec": {
   "display_name": "Python 3 (ipykernel)",
   "language": "python",
   "name": "python3"
  },
  "language_info": {
   "codemirror_mode": {
    "name": "ipython",
    "version": 3
   },
   "file_extension": ".py",
   "mimetype": "text/x-python",
   "name": "python",
   "nbconvert_exporter": "python",
   "pygments_lexer": "ipython3",
   "version": "3.9.7"
  }
 },
 "nbformat": 4,
 "nbformat_minor": 5
}
